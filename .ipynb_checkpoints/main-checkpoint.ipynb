{
 "cells": [
  {
   "cell_type": "markdown",
   "id": "7a6ff92f",
   "metadata": {},
   "source": [
    "# Car Price prediction Using Linear Regression Model"
   ]
  },
  {
   "cell_type": "code",
   "execution_count": null,
   "id": "fa0c4f3b",
   "metadata": {},
   "outputs": [],
   "source": []
  },
  {
   "cell_type": "markdown",
   "id": "e997dbeb",
   "metadata": {},
   "source": [
    "**Project Plan:**\n",
    "* Import the useful python libraries\n",
    "* Load the data\n",
    "* Preapre data: data cleaning and consistency in data\n",
    "* Exploratory Data Analysis (EDA): visualization and staristics\n",
    "* Validation framework\n",
    "* Use linear regression model for price prediction\n",
    "* Evaluate the performance of the model"
   ]
  },
  {
   "cell_type": "markdown",
   "id": "337cfe89",
   "metadata": {},
   "source": [
    "### Important Python Libraries"
   ]
  },
  {
   "cell_type": "code",
   "execution_count": 1,
   "id": "9b02c746",
   "metadata": {},
   "outputs": [],
   "source": [
    "import numpy as np\n",
    "import pandas as pd\n",
    "import matplotlib.pyplot as plt\n",
    "import seaborn as sns\n",
    "\n",
    "%matplotlib inline "
   ]
  },
  {
   "cell_type": "markdown",
   "id": "7622f311",
   "metadata": {},
   "source": [
    "### Load the data"
   ]
  },
  {
   "cell_type": "code",
   "execution_count": 13,
   "id": "43caffbe",
   "metadata": {},
   "outputs": [],
   "source": [
    "df = pd.read_csv('data.csv')"
   ]
  },
  {
   "cell_type": "code",
   "execution_count": 14,
   "id": "8f1dde9d",
   "metadata": {},
   "outputs": [
    {
     "data": {
      "text/html": [
       "<div>\n",
       "<style scoped>\n",
       "    .dataframe tbody tr th:only-of-type {\n",
       "        vertical-align: middle;\n",
       "    }\n",
       "\n",
       "    .dataframe tbody tr th {\n",
       "        vertical-align: top;\n",
       "    }\n",
       "\n",
       "    .dataframe thead th {\n",
       "        text-align: right;\n",
       "    }\n",
       "</style>\n",
       "<table border=\"1\" class=\"dataframe\">\n",
       "  <thead>\n",
       "    <tr style=\"text-align: right;\">\n",
       "      <th></th>\n",
       "      <th>Make</th>\n",
       "      <th>Model</th>\n",
       "      <th>Year</th>\n",
       "      <th>Engine Fuel Type</th>\n",
       "      <th>Engine HP</th>\n",
       "      <th>Engine Cylinders</th>\n",
       "      <th>Transmission Type</th>\n",
       "      <th>Driven_Wheels</th>\n",
       "      <th>Number of Doors</th>\n",
       "      <th>Market Category</th>\n",
       "      <th>Vehicle Size</th>\n",
       "      <th>Vehicle Style</th>\n",
       "      <th>highway MPG</th>\n",
       "      <th>city mpg</th>\n",
       "      <th>Popularity</th>\n",
       "      <th>MSRP</th>\n",
       "    </tr>\n",
       "  </thead>\n",
       "  <tbody>\n",
       "    <tr>\n",
       "      <th>0</th>\n",
       "      <td>BMW</td>\n",
       "      <td>1 Series M</td>\n",
       "      <td>2011</td>\n",
       "      <td>premium unleaded (required)</td>\n",
       "      <td>335.0</td>\n",
       "      <td>6.0</td>\n",
       "      <td>MANUAL</td>\n",
       "      <td>rear wheel drive</td>\n",
       "      <td>2.0</td>\n",
       "      <td>Factory Tuner,Luxury,High-Performance</td>\n",
       "      <td>Compact</td>\n",
       "      <td>Coupe</td>\n",
       "      <td>26</td>\n",
       "      <td>19</td>\n",
       "      <td>3916</td>\n",
       "      <td>46135</td>\n",
       "    </tr>\n",
       "    <tr>\n",
       "      <th>1</th>\n",
       "      <td>BMW</td>\n",
       "      <td>1 Series</td>\n",
       "      <td>2011</td>\n",
       "      <td>premium unleaded (required)</td>\n",
       "      <td>300.0</td>\n",
       "      <td>6.0</td>\n",
       "      <td>MANUAL</td>\n",
       "      <td>rear wheel drive</td>\n",
       "      <td>2.0</td>\n",
       "      <td>Luxury,Performance</td>\n",
       "      <td>Compact</td>\n",
       "      <td>Convertible</td>\n",
       "      <td>28</td>\n",
       "      <td>19</td>\n",
       "      <td>3916</td>\n",
       "      <td>40650</td>\n",
       "    </tr>\n",
       "    <tr>\n",
       "      <th>2</th>\n",
       "      <td>BMW</td>\n",
       "      <td>1 Series</td>\n",
       "      <td>2011</td>\n",
       "      <td>premium unleaded (required)</td>\n",
       "      <td>300.0</td>\n",
       "      <td>6.0</td>\n",
       "      <td>MANUAL</td>\n",
       "      <td>rear wheel drive</td>\n",
       "      <td>2.0</td>\n",
       "      <td>Luxury,High-Performance</td>\n",
       "      <td>Compact</td>\n",
       "      <td>Coupe</td>\n",
       "      <td>28</td>\n",
       "      <td>20</td>\n",
       "      <td>3916</td>\n",
       "      <td>36350</td>\n",
       "    </tr>\n",
       "    <tr>\n",
       "      <th>3</th>\n",
       "      <td>BMW</td>\n",
       "      <td>1 Series</td>\n",
       "      <td>2011</td>\n",
       "      <td>premium unleaded (required)</td>\n",
       "      <td>230.0</td>\n",
       "      <td>6.0</td>\n",
       "      <td>MANUAL</td>\n",
       "      <td>rear wheel drive</td>\n",
       "      <td>2.0</td>\n",
       "      <td>Luxury,Performance</td>\n",
       "      <td>Compact</td>\n",
       "      <td>Coupe</td>\n",
       "      <td>28</td>\n",
       "      <td>18</td>\n",
       "      <td>3916</td>\n",
       "      <td>29450</td>\n",
       "    </tr>\n",
       "    <tr>\n",
       "      <th>4</th>\n",
       "      <td>BMW</td>\n",
       "      <td>1 Series</td>\n",
       "      <td>2011</td>\n",
       "      <td>premium unleaded (required)</td>\n",
       "      <td>230.0</td>\n",
       "      <td>6.0</td>\n",
       "      <td>MANUAL</td>\n",
       "      <td>rear wheel drive</td>\n",
       "      <td>2.0</td>\n",
       "      <td>Luxury</td>\n",
       "      <td>Compact</td>\n",
       "      <td>Convertible</td>\n",
       "      <td>28</td>\n",
       "      <td>18</td>\n",
       "      <td>3916</td>\n",
       "      <td>34500</td>\n",
       "    </tr>\n",
       "  </tbody>\n",
       "</table>\n",
       "</div>"
      ],
      "text/plain": [
       "  Make       Model  Year             Engine Fuel Type  Engine HP  \\\n",
       "0  BMW  1 Series M  2011  premium unleaded (required)      335.0   \n",
       "1  BMW    1 Series  2011  premium unleaded (required)      300.0   \n",
       "2  BMW    1 Series  2011  premium unleaded (required)      300.0   \n",
       "3  BMW    1 Series  2011  premium unleaded (required)      230.0   \n",
       "4  BMW    1 Series  2011  premium unleaded (required)      230.0   \n",
       "\n",
       "   Engine Cylinders Transmission Type     Driven_Wheels  Number of Doors  \\\n",
       "0               6.0            MANUAL  rear wheel drive              2.0   \n",
       "1               6.0            MANUAL  rear wheel drive              2.0   \n",
       "2               6.0            MANUAL  rear wheel drive              2.0   \n",
       "3               6.0            MANUAL  rear wheel drive              2.0   \n",
       "4               6.0            MANUAL  rear wheel drive              2.0   \n",
       "\n",
       "                         Market Category Vehicle Size Vehicle Style  \\\n",
       "0  Factory Tuner,Luxury,High-Performance      Compact         Coupe   \n",
       "1                     Luxury,Performance      Compact   Convertible   \n",
       "2                Luxury,High-Performance      Compact         Coupe   \n",
       "3                     Luxury,Performance      Compact         Coupe   \n",
       "4                                 Luxury      Compact   Convertible   \n",
       "\n",
       "   highway MPG  city mpg  Popularity   MSRP  \n",
       "0           26        19        3916  46135  \n",
       "1           28        19        3916  40650  \n",
       "2           28        20        3916  36350  \n",
       "3           28        18        3916  29450  \n",
       "4           28        18        3916  34500  "
      ]
     },
     "execution_count": 14,
     "metadata": {},
     "output_type": "execute_result"
    }
   ],
   "source": [
    "df.head()"
   ]
  },
  {
   "cell_type": "code",
   "execution_count": 15,
   "id": "603e8fc9",
   "metadata": {},
   "outputs": [
    {
     "name": "stdout",
     "output_type": "stream",
     "text": [
      "<class 'pandas.core.frame.DataFrame'>\n",
      "RangeIndex: 11914 entries, 0 to 11913\n",
      "Data columns (total 16 columns):\n",
      " #   Column             Non-Null Count  Dtype  \n",
      "---  ------             --------------  -----  \n",
      " 0   Make               11914 non-null  object \n",
      " 1   Model              11914 non-null  object \n",
      " 2   Year               11914 non-null  int64  \n",
      " 3   Engine Fuel Type   11911 non-null  object \n",
      " 4   Engine HP          11845 non-null  float64\n",
      " 5   Engine Cylinders   11884 non-null  float64\n",
      " 6   Transmission Type  11914 non-null  object \n",
      " 7   Driven_Wheels      11914 non-null  object \n",
      " 8   Number of Doors    11908 non-null  float64\n",
      " 9   Market Category    8172 non-null   object \n",
      " 10  Vehicle Size       11914 non-null  object \n",
      " 11  Vehicle Style      11914 non-null  object \n",
      " 12  highway MPG        11914 non-null  int64  \n",
      " 13  city mpg           11914 non-null  int64  \n",
      " 14  Popularity         11914 non-null  int64  \n",
      " 15  MSRP               11914 non-null  int64  \n",
      "dtypes: float64(3), int64(5), object(8)\n",
      "memory usage: 1.5+ MB\n"
     ]
    }
   ],
   "source": [
    "df.info()"
   ]
  },
  {
   "cell_type": "markdown",
   "id": "85048a6d",
   "metadata": {},
   "source": [
    "There are total of 11914 entries in the dataset and 16 features."
   ]
  },
  {
   "cell_type": "markdown",
   "id": "ed3e14bd",
   "metadata": {},
   "source": [
    "### Data Preparation"
   ]
  },
  {
   "cell_type": "markdown",
   "id": "eec4b309",
   "metadata": {},
   "source": [
    "###### Ensure the column names are consistent\n",
    "\n",
    "Change all characters to lower case and replacww spaces with underscore (_) character"
   ]
  },
  {
   "cell_type": "code",
   "execution_count": 16,
   "id": "14a12677",
   "metadata": {},
   "outputs": [
    {
     "data": {
      "text/plain": [
       "Index(['Make', 'Model', 'Year', 'Engine Fuel Type', 'Engine HP',\n",
       "       'Engine Cylinders', 'Transmission Type', 'Driven_Wheels',\n",
       "       'Number of Doors', 'Market Category', 'Vehicle Size', 'Vehicle Style',\n",
       "       'highway MPG', 'city mpg', 'Popularity', 'MSRP'],\n",
       "      dtype='object')"
      ]
     },
     "execution_count": 16,
     "metadata": {},
     "output_type": "execute_result"
    }
   ],
   "source": [
    "df.columns"
   ]
  },
  {
   "cell_type": "code",
   "execution_count": 17,
   "id": "754e72e6",
   "metadata": {},
   "outputs": [],
   "source": [
    "df.columns = df.columns.str.lower().str.replace(' ', '_')"
   ]
  },
  {
   "cell_type": "code",
   "execution_count": 18,
   "id": "1ab3b5e1",
   "metadata": {},
   "outputs": [
    {
     "data": {
      "text/html": [
       "<div>\n",
       "<style scoped>\n",
       "    .dataframe tbody tr th:only-of-type {\n",
       "        vertical-align: middle;\n",
       "    }\n",
       "\n",
       "    .dataframe tbody tr th {\n",
       "        vertical-align: top;\n",
       "    }\n",
       "\n",
       "    .dataframe thead th {\n",
       "        text-align: right;\n",
       "    }\n",
       "</style>\n",
       "<table border=\"1\" class=\"dataframe\">\n",
       "  <thead>\n",
       "    <tr style=\"text-align: right;\">\n",
       "      <th></th>\n",
       "      <th>make</th>\n",
       "      <th>model</th>\n",
       "      <th>year</th>\n",
       "      <th>engine_fuel_type</th>\n",
       "      <th>engine_hp</th>\n",
       "      <th>engine_cylinders</th>\n",
       "      <th>transmission_type</th>\n",
       "      <th>driven_wheels</th>\n",
       "      <th>number_of_doors</th>\n",
       "      <th>market_category</th>\n",
       "      <th>vehicle_size</th>\n",
       "      <th>vehicle_style</th>\n",
       "      <th>highway_mpg</th>\n",
       "      <th>city_mpg</th>\n",
       "      <th>popularity</th>\n",
       "      <th>msrp</th>\n",
       "    </tr>\n",
       "  </thead>\n",
       "  <tbody>\n",
       "    <tr>\n",
       "      <th>0</th>\n",
       "      <td>BMW</td>\n",
       "      <td>1 Series M</td>\n",
       "      <td>2011</td>\n",
       "      <td>premium unleaded (required)</td>\n",
       "      <td>335.0</td>\n",
       "      <td>6.0</td>\n",
       "      <td>MANUAL</td>\n",
       "      <td>rear wheel drive</td>\n",
       "      <td>2.0</td>\n",
       "      <td>Factory Tuner,Luxury,High-Performance</td>\n",
       "      <td>Compact</td>\n",
       "      <td>Coupe</td>\n",
       "      <td>26</td>\n",
       "      <td>19</td>\n",
       "      <td>3916</td>\n",
       "      <td>46135</td>\n",
       "    </tr>\n",
       "    <tr>\n",
       "      <th>1</th>\n",
       "      <td>BMW</td>\n",
       "      <td>1 Series</td>\n",
       "      <td>2011</td>\n",
       "      <td>premium unleaded (required)</td>\n",
       "      <td>300.0</td>\n",
       "      <td>6.0</td>\n",
       "      <td>MANUAL</td>\n",
       "      <td>rear wheel drive</td>\n",
       "      <td>2.0</td>\n",
       "      <td>Luxury,Performance</td>\n",
       "      <td>Compact</td>\n",
       "      <td>Convertible</td>\n",
       "      <td>28</td>\n",
       "      <td>19</td>\n",
       "      <td>3916</td>\n",
       "      <td>40650</td>\n",
       "    </tr>\n",
       "  </tbody>\n",
       "</table>\n",
       "</div>"
      ],
      "text/plain": [
       "  make       model  year             engine_fuel_type  engine_hp  \\\n",
       "0  BMW  1 Series M  2011  premium unleaded (required)      335.0   \n",
       "1  BMW    1 Series  2011  premium unleaded (required)      300.0   \n",
       "\n",
       "   engine_cylinders transmission_type     driven_wheels  number_of_doors  \\\n",
       "0               6.0            MANUAL  rear wheel drive              2.0   \n",
       "1               6.0            MANUAL  rear wheel drive              2.0   \n",
       "\n",
       "                         market_category vehicle_size vehicle_style  \\\n",
       "0  Factory Tuner,Luxury,High-Performance      Compact         Coupe   \n",
       "1                     Luxury,Performance      Compact   Convertible   \n",
       "\n",
       "   highway_mpg  city_mpg  popularity   msrp  \n",
       "0           26        19        3916  46135  \n",
       "1           28        19        3916  40650  "
      ]
     },
     "execution_count": 18,
     "metadata": {},
     "output_type": "execute_result"
    }
   ],
   "source": [
    "df.head(2)"
   ]
  },
  {
   "cell_type": "markdown",
   "id": "3e2cb0bf",
   "metadata": {},
   "source": [
    "###### Ensure all values in each non-numerical columns are consistent: change to lower case"
   ]
  },
  {
   "cell_type": "code",
   "execution_count": 19,
   "id": "5d085de9",
   "metadata": {},
   "outputs": [
    {
     "data": {
      "text/plain": [
       "['make',\n",
       " 'model',\n",
       " 'engine_fuel_type',\n",
       " 'transmission_type',\n",
       " 'driven_wheels',\n",
       " 'market_category',\n",
       " 'vehicle_size',\n",
       " 'vehicle_style']"
      ]
     },
     "execution_count": 19,
     "metadata": {},
     "output_type": "execute_result"
    }
   ],
   "source": [
    "strings_col = list(df.dtypes[df.dtypes == 'object'].index)\n",
    "strings_col"
   ]
  },
  {
   "cell_type": "code",
   "execution_count": 20,
   "id": "832e0eb5",
   "metadata": {},
   "outputs": [
    {
     "data": {
      "text/html": [
       "<div>\n",
       "<style scoped>\n",
       "    .dataframe tbody tr th:only-of-type {\n",
       "        vertical-align: middle;\n",
       "    }\n",
       "\n",
       "    .dataframe tbody tr th {\n",
       "        vertical-align: top;\n",
       "    }\n",
       "\n",
       "    .dataframe thead th {\n",
       "        text-align: right;\n",
       "    }\n",
       "</style>\n",
       "<table border=\"1\" class=\"dataframe\">\n",
       "  <thead>\n",
       "    <tr style=\"text-align: right;\">\n",
       "      <th></th>\n",
       "      <th>make</th>\n",
       "      <th>model</th>\n",
       "      <th>year</th>\n",
       "      <th>engine_fuel_type</th>\n",
       "      <th>engine_hp</th>\n",
       "      <th>engine_cylinders</th>\n",
       "      <th>transmission_type</th>\n",
       "      <th>driven_wheels</th>\n",
       "      <th>number_of_doors</th>\n",
       "      <th>market_category</th>\n",
       "      <th>vehicle_size</th>\n",
       "      <th>vehicle_style</th>\n",
       "      <th>highway_mpg</th>\n",
       "      <th>city_mpg</th>\n",
       "      <th>popularity</th>\n",
       "      <th>msrp</th>\n",
       "    </tr>\n",
       "  </thead>\n",
       "  <tbody>\n",
       "    <tr>\n",
       "      <th>0</th>\n",
       "      <td>bmw</td>\n",
       "      <td>1 series m</td>\n",
       "      <td>2011</td>\n",
       "      <td>premium unleaded (required)</td>\n",
       "      <td>335.0</td>\n",
       "      <td>6.0</td>\n",
       "      <td>manual</td>\n",
       "      <td>rear wheel drive</td>\n",
       "      <td>2.0</td>\n",
       "      <td>factory tuner,luxury,high-performance</td>\n",
       "      <td>compact</td>\n",
       "      <td>coupe</td>\n",
       "      <td>26</td>\n",
       "      <td>19</td>\n",
       "      <td>3916</td>\n",
       "      <td>46135</td>\n",
       "    </tr>\n",
       "    <tr>\n",
       "      <th>1</th>\n",
       "      <td>bmw</td>\n",
       "      <td>1 series</td>\n",
       "      <td>2011</td>\n",
       "      <td>premium unleaded (required)</td>\n",
       "      <td>300.0</td>\n",
       "      <td>6.0</td>\n",
       "      <td>manual</td>\n",
       "      <td>rear wheel drive</td>\n",
       "      <td>2.0</td>\n",
       "      <td>luxury,performance</td>\n",
       "      <td>compact</td>\n",
       "      <td>convertible</td>\n",
       "      <td>28</td>\n",
       "      <td>19</td>\n",
       "      <td>3916</td>\n",
       "      <td>40650</td>\n",
       "    </tr>\n",
       "  </tbody>\n",
       "</table>\n",
       "</div>"
      ],
      "text/plain": [
       "  make       model  year             engine_fuel_type  engine_hp  \\\n",
       "0  bmw  1 series m  2011  premium unleaded (required)      335.0   \n",
       "1  bmw    1 series  2011  premium unleaded (required)      300.0   \n",
       "\n",
       "   engine_cylinders transmission_type     driven_wheels  number_of_doors  \\\n",
       "0               6.0            manual  rear wheel drive              2.0   \n",
       "1               6.0            manual  rear wheel drive              2.0   \n",
       "\n",
       "                         market_category vehicle_size vehicle_style  \\\n",
       "0  factory tuner,luxury,high-performance      compact         coupe   \n",
       "1                     luxury,performance      compact   convertible   \n",
       "\n",
       "   highway_mpg  city_mpg  popularity   msrp  \n",
       "0           26        19        3916  46135  \n",
       "1           28        19        3916  40650  "
      ]
     },
     "execution_count": 20,
     "metadata": {},
     "output_type": "execute_result"
    }
   ],
   "source": [
    "# the input of thelambda function is a series when apply function is used on a dataframe\n",
    "df = df.apply(lambda x: x.str.lower() if x.name in strings_col else x)\n",
    "df.head(2)"
   ]
  },
  {
   "cell_type": "markdown",
   "id": "7e90776d",
   "metadata": {},
   "source": [
    "### Data Exploration"
   ]
  },
  {
   "cell_type": "markdown",
   "id": "99249026",
   "metadata": {},
   "source": [
    "###### column names, their types, the first five unique values and number of unique values"
   ]
  },
  {
   "cell_type": "code",
   "execution_count": 21,
   "id": "49002ef5",
   "metadata": {},
   "outputs": [
    {
     "name": "stdout",
     "output_type": "stream",
     "text": [
      "Column Name: make\n",
      "Data Type: object\n",
      "No. of Unique values: 48\n",
      "Unique values: ['bmw' 'bmw' 'bmw' 'bmw' 'bmw']\n",
      "\n",
      "Column Name: model\n",
      "Data Type: object\n",
      "No. of Unique values: 914\n",
      "Unique values: ['1 series m' '1 series' '1 series' '1 series' '1 series']\n",
      "\n",
      "Column Name: year\n",
      "Data Type: int64\n",
      "No. of Unique values: 28\n",
      "Unique values: [2011 2011 2011 2011 2011]\n",
      "\n",
      "Column Name: engine_fuel_type\n",
      "Data Type: object\n",
      "No. of Unique values: 10\n",
      "Unique values: ['premium unleaded (required)' 'premium unleaded (required)'\n",
      " 'premium unleaded (required)' 'premium unleaded (required)'\n",
      " 'premium unleaded (required)']\n",
      "\n",
      "Column Name: engine_hp\n",
      "Data Type: float64\n",
      "No. of Unique values: 356\n",
      "Unique values: [335. 300. 300. 230. 230.]\n",
      "\n",
      "Column Name: engine_cylinders\n",
      "Data Type: float64\n",
      "No. of Unique values: 9\n",
      "Unique values: [6. 6. 6. 6. 6.]\n",
      "\n",
      "Column Name: transmission_type\n",
      "Data Type: object\n",
      "No. of Unique values: 5\n",
      "Unique values: ['manual' 'manual' 'manual' 'manual' 'manual']\n",
      "\n",
      "Column Name: driven_wheels\n",
      "Data Type: object\n",
      "No. of Unique values: 4\n",
      "Unique values: ['rear wheel drive' 'rear wheel drive' 'rear wheel drive'\n",
      " 'rear wheel drive' 'rear wheel drive']\n",
      "\n",
      "Column Name: number_of_doors\n",
      "Data Type: float64\n",
      "No. of Unique values: 3\n",
      "Unique values: [2. 2. 2. 2. 2.]\n",
      "\n",
      "Column Name: market_category\n",
      "Data Type: object\n",
      "No. of Unique values: 71\n",
      "Unique values: ['factory tuner,luxury,high-performance' 'luxury,performance'\n",
      " 'luxury,high-performance' 'luxury,performance' 'luxury']\n",
      "\n",
      "Column Name: vehicle_size\n",
      "Data Type: object\n",
      "No. of Unique values: 3\n",
      "Unique values: ['compact' 'compact' 'compact' 'compact' 'compact']\n",
      "\n",
      "Column Name: vehicle_style\n",
      "Data Type: object\n",
      "No. of Unique values: 16\n",
      "Unique values: ['coupe' 'convertible' 'coupe' 'coupe' 'convertible']\n",
      "\n",
      "Column Name: highway_mpg\n",
      "Data Type: int64\n",
      "No. of Unique values: 59\n",
      "Unique values: [26 28 28 28 28]\n",
      "\n",
      "Column Name: city_mpg\n",
      "Data Type: int64\n",
      "No. of Unique values: 69\n",
      "Unique values: [19 19 20 18 18]\n",
      "\n",
      "Column Name: popularity\n",
      "Data Type: int64\n",
      "No. of Unique values: 48\n",
      "Unique values: [3916 3916 3916 3916 3916]\n",
      "\n",
      "Column Name: msrp\n",
      "Data Type: int64\n",
      "No. of Unique values: 6049\n",
      "Unique values: [46135 40650 36350 29450 34500]\n",
      "\n"
     ]
    }
   ],
   "source": [
    "for column in df.columns:\n",
    "    print(f\"Column Name: {column}\")\n",
    "    print(f\"Data Type: {df[column].dtype}\")\n",
    "    print(f\"No. of Unique values: {df[column].nunique()}\")\n",
    "    print(f\"Unique values: {df[column].head(5).values}\\n\")\n",
    "    "
   ]
  },
  {
   "cell_type": "markdown",
   "id": "b9bc5577",
   "metadata": {},
   "source": [
    "###### Distribution of prices"
   ]
  },
  {
   "cell_type": "code",
   "execution_count": 22,
   "id": "15e35417",
   "metadata": {},
   "outputs": [],
   "source": [
    "def distribution(series):\n",
    "    sns.histplot(series, bins=50)\n",
    "    plt.title('Distribution of Car Prices')\n",
    "    plt.xlabel('Prices')\n",
    "    plt.ylabel('')\n",
    "    plt.show()"
   ]
  },
  {
   "cell_type": "code",
   "execution_count": 23,
   "id": "df718e05",
   "metadata": {},
   "outputs": [
    {
     "data": {
      "image/png": "[encoded data removed]",
      "text/plain": [
       "<Figure size 432x288 with 1 Axes>"
      ]
     },
     "metadata": {
      "needs_background": "light"
     },
     "output_type": "display_data"
    }
   ],
   "source": [
    "distribution(df.msrp)"
   ]
  },
  {
   "cell_type": "markdown",
   "id": "82994bce",
   "metadata": {},
   "source": [
    "The plot above seems to have a long left tail due to outliers"
   ]
  },
  {
   "cell_type": "markdown",
   "id": "2d07ba36",
   "metadata": {},
   "source": [
    "Removing the outliers before visualization"
   ]
  },
  {
   "cell_type": "code",
   "execution_count": 24,
   "id": "f31819f8",
   "metadata": {},
   "outputs": [
    {
     "data": {
      "text/plain": [
       "74078.125"
      ]
     },
     "execution_count": 24,
     "metadata": {},
     "output_type": "execute_result"
    }
   ],
   "source": [
    "# calculating the maximum non-outliers value\n",
    "q1 = np.quantile(df.msrp, 0.25)\n",
    "q3 = np.quantile(df.msrp, 0.75)\n",
    "iqr = q3 - q1\n",
    "top_whisker = q3 + (1.5 * iqr)\n",
    "top_whisker"
   ]
  },
  {
   "cell_type": "markdown",
   "id": "551ecb0f",
   "metadata": {},
   "source": [
    "Setting the `whisker` value above as the threshold for non-outliers"
   ]
  },
  {
   "cell_type": "code",
   "execution_count": 25,
   "id": "6b04b083",
   "metadata": {},
   "outputs": [
    {
     "data": {
      "image/png": "[encoded data removed]",
      "text/plain": [
       "<Figure size 432x288 with 1 Axes>"
      ]
     },
     "metadata": {
      "needs_background": "light"
     },
     "output_type": "display_data"
    }
   ],
   "source": [
    "distribution(df.msrp[df.msrp<=top_whisker])"
   ]
  },
  {
   "cell_type": "markdown",
   "id": "b663a63e",
   "metadata": {},
   "source": [
    "###### Get rid of the long tail to avoid confusing the model by taking the logarithm of the prices"
   ]
  },
  {
   "cell_type": "code",
   "execution_count": 26,
   "id": "75cda117",
   "metadata": {},
   "outputs": [
    {
     "data": {
      "text/plain": [
       "array([ 0.        ,  0.69314718,  2.39789527,  6.90875478, 11.51293546])"
      ]
     },
     "execution_count": 26,
     "metadata": {},
     "output_type": "execute_result"
    }
   ],
   "source": [
    "np.log1p([0, 1, 10, 1000, 100000]) # logp is same as np.log([0+1, 1+1, 10+1 1000+1, 100000+1])"
   ]
  },
  {
   "cell_type": "code",
   "execution_count": 98,
   "id": "a96524a6",
   "metadata": {},
   "outputs": [
    {
     "data": {
      "image/png": "[encoded data removed]",
      "text/plain": [
       "<Figure size 432x288 with 1 Axes>"
      ]
     },
     "metadata": {
      "needs_background": "light"
     },
     "output_type": "display_data"
    }
   ],
   "source": [
    "price_logs = np.log1p(df.msrp)\n",
    "distribution(price_logs)"
   ]
  },
  {
   "cell_type": "markdown",
   "id": "408ed946",
   "metadata": {},
   "source": [
    "The distribution is now normally distributed after conversion. Machine learning model generalise well on a normal distribution."
   ]
  },
  {
   "cell_type": "markdown",
   "id": "7ece9b4c",
   "metadata": {},
   "source": [
    "###### Handling missing values"
   ]
  },
  {
   "cell_type": "code",
   "execution_count": 28,
   "id": "b7c57489",
   "metadata": {},
   "outputs": [
    {
     "data": {
      "text/plain": [
       "engine_fuel_type       3\n",
       "engine_hp             69\n",
       "engine_cylinders      30\n",
       "number_of_doors        6\n",
       "market_category     3742\n",
       "dtype: int64"
      ]
     },
     "execution_count": 28,
     "metadata": {},
     "output_type": "execute_result"
    }
   ],
   "source": [
    "# columns with missing values and their actual missing\n",
    "df.isnull().sum()[df.isnull().sum() > 0]"
   ]
  },
  {
   "cell_type": "markdown",
   "id": "a2369669",
   "metadata": {},
   "source": [
    "### Validation Framework"
   ]
  },
  {
   "cell_type": "code",
   "execution_count": 29,
   "id": "e779d02c",
   "metadata": {},
   "outputs": [
    {
     "name": "stdout",
     "output_type": "stream",
     "text": [
      "11914\n"
     ]
    },
    {
     "data": {
      "text/plain": [
       "(7150, 2382, 2382)"
      ]
     },
     "execution_count": 29,
     "metadata": {},
     "output_type": "execute_result"
    }
   ],
   "source": [
    "n = df.shape[0]\n",
    "\n",
    "n_val = int(n * 0.2) # 20%\n",
    "n_test = int(n * 0.2) # 20%\n",
    "n_train = n - n_val - n_test # use the remaining data for train\n",
    "\n",
    "print(n)\n",
    "n_train, n_val, n_test"
   ]
  },
  {
   "cell_type": "code",
   "execution_count": 30,
   "id": "ac709c92",
   "metadata": {},
   "outputs": [],
   "source": [
    "# create and shuffle the index values\n",
    "idx = np.arange(n)\n",
    "\n",
    "np.random.seed(2)\n",
    "np.random.shuffle(idx) # happens in place"
   ]
  },
  {
   "cell_type": "code",
   "execution_count": 31,
   "id": "06cf9134",
   "metadata": {},
   "outputs": [
    {
     "data": {
      "text/plain": [
       "array([2735, 6720, 5878, ..., 6637, 2575, 7336])"
      ]
     },
     "execution_count": 31,
     "metadata": {},
     "output_type": "execute_result"
    }
   ],
   "source": [
    "idx"
   ]
  },
  {
   "cell_type": "code",
   "execution_count": 99,
   "id": "7aeb211e",
   "metadata": {},
   "outputs": [],
   "source": [
    "df_train = df.iloc[idx[:n_train]]\n",
    "df_val = df.iloc[idx[n_train:n_train+n_val]]\n",
    "df_test = df.iloc[idx[n_train+n_val: ]]"
   ]
  },
  {
   "cell_type": "code",
   "execution_count": 100,
   "id": "527a181c",
   "metadata": {},
   "outputs": [],
   "source": [
    "# resetting the index\n",
    "df_train = df.iloc[idx[:n_train]].reset_index(drop=True)\n",
    "df_val = df.iloc[idx[n_train:n_train+n_val]].reset_index(drop=True)\n",
    "df_test = df.iloc[idx[n_train+n_val: ]].reset_index(drop=True)"
   ]
  },
  {
   "cell_type": "markdown",
   "id": "adcaafad",
   "metadata": {},
   "source": [
    "###### The targer variables"
   ]
  },
  {
   "cell_type": "code",
   "execution_count": 101,
   "id": "a86a36a6",
   "metadata": {},
   "outputs": [],
   "source": [
    "y_train = np.log1p(df_train.msrp.values) \n",
    "y_val = np.log1p(df_val.msrp.values)\n",
    "y_test = np.log1p(df_test.msrp.values) "
   ]
  },
  {
   "cell_type": "code",
   "execution_count": 102,
   "id": "aeeca366",
   "metadata": {},
   "outputs": [],
   "source": [
    "# delete the price column from all the data\n",
    "df_train.drop('msrp', axis=1, inplace=True)\n",
    "df_val.drop('msrp', axis=1, inplace=True)\n",
    "df_test.drop('msrp', axis=1, inplace=True)"
   ]
  },
  {
   "cell_type": "code",
   "execution_count": null,
   "id": "b4f6c820",
   "metadata": {},
   "outputs": [],
   "source": []
  },
  {
   "cell_type": "markdown",
   "id": "2d45efd8",
   "metadata": {},
   "source": [
    "### Linear Regression Model\n",
    "\n",
    "$\\hat{y} = w_0X_0 + \\sum_{j=0}^{n - 0}{w_jX_i}$\n",
    "\n",
    "where:\n",
    "* $\\hat{y}$ = output\n",
    "* $w_0$ = predicted value given that we don't have any information about the data\n",
    "* $w_j$ = weight\n",
    "* $X_0$ = 1\n",
    "* $X_i$ = observation\n",
    "* $i$ = observation position\n",
    "* $j$ = observation feature position\n",
    "* $n$ = number of features"
   ]
  },
  {
   "cell_type": "code",
   "execution_count": 103,
   "id": "5d10fa57",
   "metadata": {},
   "outputs": [],
   "source": [
    "def dot_product(Xi, w):\n",
    "    \"\"\"\n",
    "    Xi (array):\n",
    "        observation at ith position\n",
    "    w (array):\n",
    "        initial weights for each features of an observation\n",
    "    Return (float):\n",
    "        predicted value of the observation at ith position\n",
    "    \"\"\"\n",
    "    n_col = len(Xi)\n",
    "    # initial response: rep\n",
    "    res = 0.0\n",
    "    \n",
    "    for j in range(n_col):\n",
    "        res = res + Xi[j] * w[j]\n",
    "        \n",
    "    return res"
   ]
  },
  {
   "cell_type": "code",
   "execution_count": 104,
   "id": "6c09d732",
   "metadata": {},
   "outputs": [],
   "source": [
    "def linear_regression(Xi, w):\n",
    "    \"\"\"\n",
    "    X (array):\n",
    "        observation at ith position  \n",
    "    Return (float):\n",
    "        predicted value\n",
    "    \"\"\"\n",
    "    # Xi = [1] + Xi # where [1] is the predictor given that Xi unknown\n",
    "    return dot_product(Xi, w)"
   ]
  },
  {
   "cell_type": "code",
   "execution_count": 105,
   "id": "340ea893",
   "metadata": {},
   "outputs": [
    {
     "data": {
      "text/plain": [
       "(array([  1, 453,  11,  86]), array([7.17e+00, 1.00e-02, 4.00e-02, 2.00e-03]))"
      ]
     },
     "execution_count": 105,
     "metadata": {},
     "output_type": "execute_result"
    }
   ],
   "source": [
    "# simple example\n",
    "x0 = 1 \n",
    "Xi = np.array([x0] + [453, 11, 86])\n",
    "w0 = 7.17\n",
    "w = np.array([w0] + [0.01, 0.04, 0.002])\n",
    "Xi, w"
   ]
  },
  {
   "cell_type": "code",
   "execution_count": 106,
   "id": "a96f74bf",
   "metadata": {},
   "outputs": [
    {
     "data": {
      "text/plain": [
       "12.312"
      ]
     },
     "execution_count": 106,
     "metadata": {},
     "output_type": "execute_result"
    }
   ],
   "source": [
    "linear_regression(Xi, w)"
   ]
  },
  {
   "cell_type": "markdown",
   "id": "5de1534c",
   "metadata": {},
   "source": [
    "### Training Linear Model\n",
    "\n",
    "Determining the weight\n",
    "\n",
    "$Xw = {y}$ <br>\n",
    "$w = {X}^{-1}{y}$ <br>\n",
    "$w = {({X}^{T}{X})}^{-1}{X}^{T}y$\n",
    "\n",
    "Where w is the colsest solution to the system"
   ]
  },
  {
   "cell_type": "code",
   "execution_count": 107,
   "id": "289de46e",
   "metadata": {},
   "outputs": [
    {
     "data": {
      "text/plain": [
       "(array([[  1, 453,  11,  86]]),\n",
       " array([[7.17e+00, 1.00e-02, 4.00e-02, 2.00e-03]]))"
      ]
     },
     "execution_count": 107,
     "metadata": {},
     "output_type": "execute_result"
    }
   ],
   "source": [
    "# simple example\n",
    "x0 = 1 \n",
    "Xi = np.array([[x0] + [453, 11, 86]])\n",
    "w0 = 7.17\n",
    "w = np.array([[w0] + [0.01, 0.04, 0.002]])\n",
    "y = 100\n",
    "Xi, w"
   ]
  },
  {
   "cell_type": "code",
   "execution_count": 108,
   "id": "be02b4fc",
   "metadata": {},
   "outputs": [
    {
     "data": {
      "text/plain": [
       "array([[ 2.72603904e+37],\n",
       "       [-5.68109672e+34],\n",
       "       [ 5.19229686e+35],\n",
       "       [-6.49037107e+34]])"
      ]
     },
     "execution_count": 108,
     "metadata": {},
     "output_type": "execute_result"
    }
   ],
   "source": [
    "# calculating the value of w: using numpy dot function for matrix multiplication\n",
    "new_w = np.linalg.inv(Xi.T.dot(Xi)).dot(Xi.T).dot(y)\n",
    "new_w"
   ]
  },
  {
   "cell_type": "code",
   "execution_count": 122,
   "id": "490e24eb",
   "metadata": {},
   "outputs": [],
   "source": [
    "def train_linear_regression(X, y):\n",
    "    \"\"\"\n",
    "    X (2D array):\n",
    "        observations\n",
    "    y (array):\n",
    "        an array of labels for each observations\n",
    "    \"\"\"\n",
    "    ones = np.ones(len(X))\n",
    "    X = np.column_stack([ones, X])\n",
    "    \n",
    "    XTX = X.T.dot(X)\n",
    "    XTX_inv = np.linalg.inv(XTX)\n",
    "    w = XTX_inv.dot(X.T).dot(y)\n",
    "    \n",
    "    w0 = w[0]\n",
    "    wi = w[1:]\n",
    "    return w0, wi"
   ]
  },
  {
   "cell_type": "markdown",
   "id": "7507e82b",
   "metadata": {},
   "source": [
    "### Car Price Baseline Model\n",
    "\n",
    "Using all the numerical column to predict car price"
   ]
  },
  {
   "cell_type": "markdown",
   "id": "3c3de587",
   "metadata": {},
   "source": [
    "Remove missing values"
   ]
  },
  {
   "cell_type": "code",
   "execution_count": 123,
   "id": "3fd7d2ff",
   "metadata": {},
   "outputs": [
    {
     "data": {
      "text/plain": [
       "make                    0\n",
       "model                   0\n",
       "year                    0\n",
       "engine_fuel_type        1\n",
       "engine_hp              40\n",
       "engine_cylinders       14\n",
       "transmission_type       0\n",
       "driven_wheels           0\n",
       "number_of_doors         6\n",
       "market_category      2251\n",
       "vehicle_size            0\n",
       "vehicle_style           0\n",
       "highway_mpg             0\n",
       "city_mpg                0\n",
       "popularity              0\n",
       "dtype: int64"
      ]
     },
     "execution_count": 123,
     "metadata": {},
     "output_type": "execute_result"
    }
   ],
   "source": [
    "df_train.isna().sum()"
   ]
  },
  {
   "cell_type": "markdown",
   "id": "1ebf2812",
   "metadata": {},
   "source": [
    "Numerical Features"
   ]
  },
  {
   "cell_type": "code",
   "execution_count": 141,
   "id": "08ba1c48",
   "metadata": {},
   "outputs": [
    {
     "data": {
      "text/plain": [
       "Index(['year', 'engine_hp', 'engine_cylinders', 'number_of_doors',\n",
       "       'highway_mpg', 'city_mpg', 'popularity'],\n",
       "      dtype='object')"
      ]
     },
     "execution_count": 141,
     "metadata": {},
     "output_type": "execute_result"
    }
   ],
   "source": [
    "numerical_col = df_train.dtypes[df_train.dtypes != 'object'].index\n",
    "numerical_col"
   ]
  },
  {
   "cell_type": "code",
   "execution_count": 142,
   "id": "554807ad",
   "metadata": {},
   "outputs": [],
   "source": [
    "def prepare_x(df):\n",
    "    # fill missing values with zero\n",
    "    numerical_col = df.dtypes[df.dtypes != 'object'].index\n",
    "    X = df[numerical_col].drop(['year', 'number_of_doors'], axis=1).fillna(0).values\n",
    "    return X"
   ]
  },
  {
   "cell_type": "code",
   "execution_count": 143,
   "id": "2772667d",
   "metadata": {},
   "outputs": [
    {
     "data": {
      "text/plain": [
       "array([[ 148.,    4.,   33.,   24., 1385.],\n",
       "       [ 132.,    4.,   32.,   25., 2031.]])"
      ]
     },
     "execution_count": 143,
     "metadata": {},
     "output_type": "execute_result"
    }
   ],
   "source": [
    "# fill missing values with zero\n",
    "X_train = prepare_x(df_train)\n",
    "X_train[:2]"
   ]
  },
  {
   "cell_type": "markdown",
   "id": "bd1e941f",
   "metadata": {},
   "source": [
    "Train linear regression model: to obtain the weights of each features"
   ]
  },
  {
   "cell_type": "code",
   "execution_count": 144,
   "id": "29a55445",
   "metadata": {},
   "outputs": [
    {
     "data": {
      "text/plain": [
       "(7.927257388070117,\n",
       " array([ 9.70589522e-03, -1.59103494e-01,  1.43792133e-02,  1.49441072e-02,\n",
       "        -9.06908672e-06]))"
      ]
     },
     "execution_count": 144,
     "metadata": {},
     "output_type": "execute_result"
    }
   ],
   "source": [
    "w0, w = train_linear_regression(X_train, y_train)\n",
    "w0, w"
   ]
  },
  {
   "cell_type": "markdown",
   "id": "a6811634",
   "metadata": {},
   "source": [
    "Make prediction using the linear rgeression formula"
   ]
  },
  {
   "cell_type": "code",
   "execution_count": 145,
   "id": "b729c35d",
   "metadata": {},
   "outputs": [],
   "source": [
    "y_pred = w0 + X_train.dot(w)"
   ]
  },
  {
   "cell_type": "code",
   "execution_count": 146,
   "id": "e327559e",
   "metadata": {},
   "outputs": [
    {
     "data": {
      "text/plain": [
       "array([ 9.54792783,  9.38733977,  9.67197758, ..., 10.30423015,\n",
       "       11.9778914 ,  9.99863111])"
      ]
     },
     "execution_count": 146,
     "metadata": {},
     "output_type": "execute_result"
    }
   ],
   "source": [
    "y_pred "
   ]
  },
  {
   "cell_type": "code",
   "execution_count": 147,
   "id": "55a6bb84",
   "metadata": {},
   "outputs": [
    {
     "data": {
      "text/plain": [
       "array([ 9.57574708,  9.887663  ,  9.89323518, ..., 10.45380308,\n",
       "       12.62248099, 10.54061978])"
      ]
     },
     "execution_count": 147,
     "metadata": {},
     "output_type": "execute_result"
    }
   ],
   "source": [
    "y_train"
   ]
  },
  {
   "cell_type": "markdown",
   "id": "3edb80a1",
   "metadata": {},
   "source": [
    "Distribution of the predicted values and the actual values"
   ]
  },
  {
   "cell_type": "code",
   "execution_count": 148,
   "id": "7413712a",
   "metadata": {},
   "outputs": [
    {
     "data": {
      "text/plain": [
       "<matplotlib.legend.Legend at 0x1be0a120af0>"
      ]
     },
     "execution_count": 148,
     "metadata": {},
     "output_type": "execute_result"
    },
    {
     "data": {
      "image/png": "[encoded data removed]",
      "text/plain": [
       "<Figure size 432x288 with 1 Axes>"
      ]
     },
     "metadata": {
      "needs_background": "light"
     },
     "output_type": "display_data"
    }
   ],
   "source": [
    "sns.histplot(y_train, alpha=0.5, color='blue', label='Actual Price')\n",
    "sns.histplot(y_pred, alpha=0.5, color='red', label='Predicted Price')\n",
    "plt.title(\"Actual and Predicted Car Price Distribution\")\n",
    "plt.xlabel('Price ($)')\n",
    "plt.legend()"
   ]
  },
  {
   "cell_type": "markdown",
   "id": "5799535b",
   "metadata": {},
   "source": [
    "### Model Performance: RMSE\n",
    "\n",
    "For the traiing error"
   ]
  },
  {
   "cell_type": "code",
   "execution_count": 149,
   "id": "7ff114ad",
   "metadata": {},
   "outputs": [],
   "source": [
    "def calculate_rmse(pred_y, actual_y):\n",
    "    mse = np.mean((pred_y - actual_y) ** 2)\n",
    "    rmse = np.sqrt(mse)\n",
    "    return rmse"
   ]
  },
  {
   "cell_type": "code",
   "execution_count": 150,
   "id": "24029a5c",
   "metadata": {},
   "outputs": [
    {
     "data": {
      "text/plain": [
       "0.7554192603920132"
      ]
     },
     "execution_count": 150,
     "metadata": {},
     "output_type": "execute_result"
    }
   ],
   "source": [
    "rmse = calculate_rmse(y_pred, y_train)\n",
    "rmse"
   ]
  },
  {
   "cell_type": "markdown",
   "id": "2567c9a2",
   "metadata": {},
   "source": [
    "### Model Validation"
   ]
  },
  {
   "cell_type": "code",
   "execution_count": 151,
   "id": "8018f3b7",
   "metadata": {},
   "outputs": [],
   "source": [
    "# predict the car price in validation data using the weights gotten from trained data\n",
    "x_val = prepare_x(df_val)\n",
    "pred_val = w0 + x_val.dot(w)"
   ]
  },
  {
   "cell_type": "code",
   "execution_count": 152,
   "id": "9bbf229d",
   "metadata": {},
   "outputs": [
    {
     "data": {
      "text/plain": [
       "array([ 9.86288014, 10.37013608,  9.69868129, ..., 10.4916625 ,\n",
       "        9.57091361, 10.40022147])"
      ]
     },
     "execution_count": 152,
     "metadata": {},
     "output_type": "execute_result"
    }
   ],
   "source": [
    "pred_val"
   ]
  },
  {
   "cell_type": "code",
   "execution_count": 153,
   "id": "2593867d",
   "metadata": {},
   "outputs": [
    {
     "data": {
      "text/plain": [
       "array([10.19936098, 10.90872279,  9.72770457, ..., 11.21756062,\n",
       "        9.77542688, 10.1924563 ])"
      ]
     },
     "execution_count": 153,
     "metadata": {},
     "output_type": "execute_result"
    }
   ],
   "source": [
    "y_val"
   ]
  },
  {
   "cell_type": "code",
   "execution_count": 154,
   "id": "ed8220a9",
   "metadata": {},
   "outputs": [
    {
     "data": {
      "text/plain": [
       "0.7616530991301601"
      ]
     },
     "execution_count": 154,
     "metadata": {},
     "output_type": "execute_result"
    }
   ],
   "source": [
    "calculate_rmse(pred_val, y_val)"
   ]
  },
  {
   "cell_type": "markdown",
   "id": "8ff17941",
   "metadata": {},
   "source": [
    "### Simple Feature Engineering\n",
    "\n",
    "Redefine the prepare_x function to include the age difference between car production up to the maximum date "
   ]
  },
  {
   "cell_type": "code",
   "execution_count": 155,
   "id": "4499101f",
   "metadata": {},
   "outputs": [
    {
     "data": {
      "text/plain": [
       "2017"
      ]
     },
     "execution_count": 155,
     "metadata": {},
     "output_type": "execute_result"
    }
   ],
   "source": [
    "max_year = df['year'].max()\n",
    "max_year"
   ]
  },
  {
   "cell_type": "code",
   "execution_count": 167,
   "id": "0fae8f14",
   "metadata": {},
   "outputs": [],
   "source": [
    "def prepare_x(df):\n",
    "    max_year = df['year'].max()\n",
    "    # avoid modifying the original data\n",
    "    df = df.copy()\n",
    "    df['age'] = max_year - df['year']\n",
    "    df_num = df[numerical_col].drop(['year', 'number_of_doors'], axis=1)\n",
    "    X = df_num.fillna(0).values\n",
    "    return X"
   ]
  },
  {
   "cell_type": "code",
   "execution_count": 168,
   "id": "5561b594",
   "metadata": {},
   "outputs": [],
   "source": [
    "# train on the new data\n",
    "X_train = prepare_x(df_train)"
   ]
  },
  {
   "cell_type": "code",
   "execution_count": 169,
   "id": "bbdcd783",
   "metadata": {},
   "outputs": [],
   "source": [
    "w0, w = train_linear_regression(X_train, y_train)"
   ]
  },
  {
   "cell_type": "markdown",
   "id": "72ddac15",
   "metadata": {},
   "source": [
    "Predict on the train data and evaluate it"
   ]
  },
  {
   "cell_type": "code",
   "execution_count": 170,
   "id": "34fb0825",
   "metadata": {},
   "outputs": [],
   "source": [
    "pred_train = w0 + X_train.dot(w)"
   ]
  },
  {
   "cell_type": "code",
   "execution_count": 171,
   "id": "c963fbda",
   "metadata": {},
   "outputs": [
    {
     "data": {
      "text/plain": [
       "0.7554192603920132"
      ]
     },
     "execution_count": 171,
     "metadata": {},
     "output_type": "execute_result"
    }
   ],
   "source": [
    "train_error = calculate_rmse(pred_train, y_train)\n",
    "train_error"
   ]
  },
  {
   "cell_type": "code",
   "execution_count": null,
   "id": "29c6064f",
   "metadata": {},
   "outputs": [],
   "source": []
  },
  {
   "cell_type": "code",
   "execution_count": 172,
   "id": "1d6408d6",
   "metadata": {},
   "outputs": [
    {
     "data": {
      "text/plain": [
       "make                  object\n",
       "model                 object\n",
       "year                   int64\n",
       "engine_fuel_type      object\n",
       "engine_hp            float64\n",
       "engine_cylinders     float64\n",
       "transmission_type     object\n",
       "driven_wheels         object\n",
       "number_of_doors      float64\n",
       "market_category       object\n",
       "vehicle_size          object\n",
       "vehicle_style         object\n",
       "highway_mpg            int64\n",
       "city_mpg               int64\n",
       "popularity             int64\n",
       "dtype: object"
      ]
     },
     "execution_count": 172,
     "metadata": {},
     "output_type": "execute_result"
    }
   ],
   "source": [
    "df_train.dtypes"
   ]
  },
  {
   "cell_type": "code",
   "execution_count": null,
   "id": "f4a008f6",
   "metadata": {},
   "outputs": [],
   "source": []
  }
 ],
 "metadata": {
  "kernelspec": {
   "display_name": "Python 3",
   "language": "python",
   "name": "python3"
  },
  "language_info": {
   "codemirror_mode": {
    "name": "ipython",
    "version": 3
   },
   "file_extension": ".py",
   "mimetype": "text/x-python",
   "name": "python",
   "nbconvert_exporter": "python",
   "pygments_lexer": "ipython3",
   "version": "3.8.8"
  }
 },
 "nbformat": 4,
 "nbformat_minor": 5
}
